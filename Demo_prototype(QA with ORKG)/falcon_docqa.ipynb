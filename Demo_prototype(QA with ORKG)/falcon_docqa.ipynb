{
 "cells": [
  {
   "cell_type": "code",
   "execution_count": 1,
   "metadata": {},
   "outputs": [],
   "source": [
    "from langchain import HuggingFaceHub\n",
    "from langchain import PromptTemplate, LLMChain\n",
    "from langchain.document_loaders import TextLoader\n",
    "from langchain.text_splitter import CharacterTextSplitter, RecursiveCharacterTextSplitter\n",
    "from langchain.vectorstores import Chroma\n",
    "from langchain.embeddings import HuggingFaceEmbeddings\n",
    "\n",
    "MODEL_PATH = \"./models/llama-7b.ggmlv3.q4_K_M.bin\"\n",
    "\n",
    "huggingfacehub_api_token=\"\""
   ]
  },
  {
   "cell_type": "code",
   "execution_count": 2,
   "metadata": {},
   "outputs": [
    {
     "name": "stderr",
     "output_type": "stream",
     "text": [
      "c:\\Users\\kedar\\anaconda3\\envs\\langchain_stuff\\lib\\site-packages\\tqdm\\auto.py:21: TqdmWarning: IProgress not found. Please update jupyter and ipywidgets. See https://ipywidgets.readthedocs.io/en/stable/user_install.html\n",
      "  from .autonotebook import tqdm as notebook_tqdm\n"
     ]
    }
   ],
   "source": [
    "repo_id = \"tiiuae/falcon-7b-instruct\"\n",
    "llm = HuggingFaceHub(huggingfacehub_api_token=huggingfacehub_api_token, \n",
    "                     repo_id=repo_id, \n",
    "                     model_kwargs={\"temperature\":0.6, \"max_new_tokens\":500})"
   ]
  },
  {
   "cell_type": "code",
   "execution_count": 3,
   "metadata": {},
   "outputs": [],
   "source": [
    "loader = TextLoader(\"./docs/sample_input2.txt\")\n",
    "docs = loader.load()"
   ]
  },
  {
   "cell_type": "code",
   "execution_count": 4,
   "metadata": {},
   "outputs": [
    {
     "data": {
      "text/plain": [
       "[Document(page_content=\"India, officially known as the Republic of India, is a diverse and vibrant country located in South Asia. It is the seventh-largest country by land area and the second-most populous country in the world, with over 1.3 billion people. India shares its borders with several countries, including Pakistan, China, Nepal, Bhutan, Bangladesh, and Myanmar.\\n\\nGeographically, India is known for its diverse landscape, which ranges from the towering Himalayan mountain range in the north to the coastal plains in the south, and from the arid desert regions in the west to the fertile Gangetic plains in the east. The country is also home to several major rivers, including the Ganges and Brahmaputra, which have played a significant role in shaping India's history and culture.\\n\\nIndia has a rich and ancient history that dates back thousands of years. The Indus Valley Civilization, one of the world's oldest urban civilizations, flourished in the western part of present-day India around 2500 BCE. Over the centuries, various dynasties and empires rose and fell, including the Maurya, Gupta, Mughal, and British Empires, each leaving their mark on the country's culture and heritage.\\n\\nToday, India is a federal parliamentary democratic republic with a multi-tiered governance structure. The President of India is the head of state, while the Prime Minister is the head of government. The current President of India is Droupadi Murmu while the current prime minister is Narendra Modi. The country follows a parliamentary system and has a bicameral legislature consisting of the Rajya Sabha (Council of States) and the Lok Sabha (House of the People).\\n\\nIndia is known for its cultural diversity, with numerous languages, religions, and ethnic groups coexisting within its borders. The country is home to several major religions, including Hinduism, Islam, Christianity, Sikhism, Buddhism, and Jainism, among others. This diversity is reflected in India's festivals, cuisine, music, dance, art, and architecture, making it a culturally rich and fascinating destination.\\n\\nEconomically, India is one of the fastest-growing major economies in the world. It has a mixed economy, with agriculture, industry, and services sectors contributing to its GDP. Information technology, pharmaceuticals, textiles, automotive, and telecommunications are some of the key industries driving the country's growth. India is also known for its vibrant film industry, commonly referred to as Bollywood, which produces the largest number of films globally.\\n\\nChallenges such as poverty, illiteracy, and infrastructure development remain significant concerns for India. However, the country has made notable progress in various areas, including healthcare, education, and technology. India has a strong space program and has achieved significant milestones in space exploration, including successful missions to the Moon and Mars.\\n\\nTourism plays a significant role in India's economy, with millions of visitors flocking to explore its historical sites, cultural landmarks, and natural wonders. Popular tourist destinations include the Taj Mahal, Jaipur's palaces, Kerala's backwaters, the beaches of Goa, the temples of Varanasi, and the hill stations of the Himalayas.\\n\\nOverall, India's rich history, cultural diversity, and rapid development make it a captivating and complex nation, with a unique blend of traditions and modernity.\", metadata={'source': './docs/sample_input2.txt'})]"
      ]
     },
     "execution_count": 4,
     "metadata": {},
     "output_type": "execute_result"
    }
   ],
   "source": [
    "docs"
   ]
  },
  {
   "cell_type": "code",
   "execution_count": 5,
   "metadata": {},
   "outputs": [
    {
     "data": {
      "text/plain": [
       "[Document(page_content='India, officially known as the Republic of India, is a diverse and vibrant country located in South Asia. It is the seventh-largest country by land area and the second-most populous country in the world, with over 1.3 billion people. India shares its', metadata={'source': './docs/sample_input2.txt'}),\n",
       " Document(page_content='borders with several countries, including Pakistan, China, Nepal, Bhutan, Bangladesh, and Myanmar.\\n\\nGeographically, India is known for its diverse landscape, which ranges from the towering Himalayan mountain range in the north to the coastal plains in the', metadata={'source': './docs/sample_input2.txt'}),\n",
       " Document(page_content=\"south, and from the arid desert regions in the west to the fertile Gangetic plains in the east. The country is also home to several major rivers, including the Ganges and Brahmaputra, which have played a significant role in shaping India's history and\", metadata={'source': './docs/sample_input2.txt'}),\n",
       " Document(page_content=\"culture.\\n\\nIndia has a rich and ancient history that dates back thousands of years. The Indus Valley Civilization, one of the world's oldest urban civilizations, flourished in the western part of present-day India around 2500 BCE. Over the centuries,\", metadata={'source': './docs/sample_input2.txt'}),\n",
       " Document(page_content=\"various dynasties and empires rose and fell, including the Maurya, Gupta, Mughal, and British Empires, each leaving their mark on the country's culture and heritage.\\n\\nToday, India is a federal parliamentary democratic republic with a multi-tiered\", metadata={'source': './docs/sample_input2.txt'}),\n",
       " Document(page_content='governance structure. The President of India is the head of state, while the Prime Minister is the head of government. The current President of India is Droupadi Murmu while the current prime minister is Narendra Modi. The country follows a parliamentary', metadata={'source': './docs/sample_input2.txt'}),\n",
       " Document(page_content='system and has a bicameral legislature consisting of the Rajya Sabha (Council of States) and the Lok Sabha (House of the People).\\n\\nIndia is known for its cultural diversity, with numerous languages, religions, and ethnic groups coexisting within its', metadata={'source': './docs/sample_input2.txt'}),\n",
       " Document(page_content=\"borders. The country is home to several major religions, including Hinduism, Islam, Christianity, Sikhism, Buddhism, and Jainism, among others. This diversity is reflected in India's festivals, cuisine, music, dance, art, and architecture, making it a\", metadata={'source': './docs/sample_input2.txt'}),\n",
       " Document(page_content='culturally rich and fascinating destination.\\n\\nEconomically, India is one of the fastest-growing major economies in the world. It has a mixed economy, with agriculture, industry, and services sectors contributing to its GDP. Information technology,', metadata={'source': './docs/sample_input2.txt'}),\n",
       " Document(page_content=\"pharmaceuticals, textiles, automotive, and telecommunications are some of the key industries driving the country's growth. India is also known for its vibrant film industry, commonly referred to as Bollywood, which produces the largest number of films\", metadata={'source': './docs/sample_input2.txt'}),\n",
       " Document(page_content='globally.\\n\\nChallenges such as poverty, illiteracy, and infrastructure development remain significant concerns for India. However, the country has made notable progress in various areas, including healthcare, education, and technology. India has a strong', metadata={'source': './docs/sample_input2.txt'}),\n",
       " Document(page_content=\"space program and has achieved significant milestones in space exploration, including successful missions to the Moon and Mars.\\n\\nTourism plays a significant role in India's economy, with millions of visitors flocking to explore its historical sites,\", metadata={'source': './docs/sample_input2.txt'}),\n",
       " Document(page_content=\"cultural landmarks, and natural wonders. Popular tourist destinations include the Taj Mahal, Jaipur's palaces, Kerala's backwaters, the beaches of Goa, the temples of Varanasi, and the hill stations of the Himalayas.\\n\\nOverall, India's rich history,\", metadata={'source': './docs/sample_input2.txt'}),\n",
       " Document(page_content='cultural diversity, and rapid development make it a captivating and complex nation, with a unique blend of traditions and modernity.', metadata={'source': './docs/sample_input2.txt'})]"
      ]
     },
     "execution_count": 5,
     "metadata": {},
     "output_type": "execute_result"
    }
   ],
   "source": [
    "#text_splitter = CharacterTextSplitter(chunk_size=256, chunk_overlap=128)\n",
    "text_splitter = RecursiveCharacterTextSplitter(\n",
    "    chunk_size=256, chunk_overlap=0, separators=[\" \", \",\", \"\\n\", \".\"]\n",
    "    )\n",
    "texts = text_splitter.split_documents(docs)\n",
    "texts"
   ]
  },
  {
   "cell_type": "code",
   "execution_count": 6,
   "metadata": {},
   "outputs": [
    {
     "data": {
      "text/plain": [
       "Document(page_content='India, officially known as the Republic of India, is a diverse and vibrant country located in South Asia. It is the seventh-largest country by land area and the second-most populous country in the world, with over 1.3 billion people. India shares its', metadata={'source': './docs/sample_input2.txt'})"
      ]
     },
     "execution_count": 6,
     "metadata": {},
     "output_type": "execute_result"
    }
   ],
   "source": [
    "_texts = []\n",
    "for i in range(len(texts)):\n",
    "    _texts.append(texts[i].page_content)\n",
    "texts[0]"
   ]
  },
  {
   "cell_type": "code",
   "execution_count": 7,
   "metadata": {},
   "outputs": [
    {
     "name": "stderr",
     "output_type": "stream",
     "text": [
      "Downloading (…)a8e1d/.gitattributes: 100%|██████████| 1.18k/1.18k [00:00<00:00, 587kB/s]\n",
      "Downloading (…)_Pooling/config.json: 100%|██████████| 190/190 [00:00<00:00, 63.0kB/s]\n",
      "Downloading (…)b20bca8e1d/README.md: 100%|██████████| 10.6k/10.6k [00:00<00:00, 3.52MB/s]\n",
      "Downloading (…)0bca8e1d/config.json: 100%|██████████| 571/571 [00:00<00:00, 190kB/s]\n",
      "Downloading (…)ce_transformers.json: 100%|██████████| 116/116 [00:00<00:00, 33.4kB/s]\n",
      "Downloading (…)e1d/data_config.json: 100%|██████████| 39.3k/39.3k [00:00<00:00, 13.1MB/s]\n",
      "Downloading pytorch_model.bin: 100%|██████████| 438M/438M [00:20<00:00, 20.9MB/s] \n",
      "Downloading (…)nce_bert_config.json: 100%|██████████| 53.0/53.0 [00:00<00:00, 26.5kB/s]\n",
      "Downloading (…)cial_tokens_map.json: 100%|██████████| 239/239 [00:00<00:00, 119kB/s]\n",
      "Downloading (…)a8e1d/tokenizer.json: 100%|██████████| 466k/466k [00:00<00:00, 8.84MB/s]\n",
      "Downloading (…)okenizer_config.json: 100%|██████████| 363/363 [00:00<00:00, 181kB/s]\n",
      "Downloading (…)8e1d/train_script.py: 100%|██████████| 13.1k/13.1k [00:00<00:00, 3.28MB/s]\n",
      "Downloading (…)b20bca8e1d/vocab.txt: 100%|██████████| 232k/232k [00:00<00:00, 28.9MB/s]\n",
      "Downloading (…)bca8e1d/modules.json: 100%|██████████| 349/349 [00:00<00:00, 175kB/s]\n"
     ]
    },
    {
     "data": {
      "text/plain": [
       "(14, 768, 768)"
      ]
     },
     "execution_count": 7,
     "metadata": {},
     "output_type": "execute_result"
    }
   ],
   "source": [
    "embeddings = HuggingFaceEmbeddings()\n",
    "query = \"Who is the current President of India?\"\n",
    "\n",
    "embedded_query = embeddings.embed_query(query)\n",
    "embedded_texts = embeddings.embed_documents(_texts)\n",
    "len(embedded_texts), len(embedded_texts[0]), len(embedded_query)"
   ]
  },
  {
   "cell_type": "code",
   "execution_count": 6,
   "metadata": {},
   "outputs": [
    {
     "name": "stderr",
     "output_type": "stream",
     "text": [
      "AVX = 1 | AVX2 = 1 | AVX512 = 0 | AVX512_VBMI = 0 | AVX512_VNNI = 0 | FMA = 1 | NEON = 0 | ARM_FMA = 0 | F16C = 1 | FP16_VA = 0 | WASM_SIMD = 0 | BLAS = 0 | SSE3 = 1 | VSX = 0 | \n"
     ]
    },
    {
     "data": {
      "text/plain": [
       "Document(page_content='India, officially known as the Republic of India, is a diverse and vibrant country located in South Asia. It is the seventh-largest country by land area and the second-most populous country in the world, with over 1.3 billion people. India shares its', metadata={'source': './docs/sample_input2.txt'})"
      ]
     },
     "execution_count": 6,
     "metadata": {},
     "output_type": "execute_result"
    }
   ],
   "source": [
    "# from langchain.embeddings import LlamaCppEmbeddings\n",
    "# embeddings = LlamaCppEmbeddings(model_path=MODEL_PATH)\n"
   ]
  },
  {
   "cell_type": "code",
   "execution_count": 7,
   "metadata": {},
   "outputs": [
    {
     "data": {
      "text/plain": [
       "(26, 4096)"
      ]
     },
     "execution_count": 7,
     "metadata": {},
     "output_type": "execute_result"
    }
   ],
   "source": [
    "# embedded_texts = embeddings.embed_documents(_texts)\n",
    "# len(embedded_texts), len(embedded_texts[0])"
   ]
  },
  {
   "cell_type": "code",
   "execution_count": 8,
   "metadata": {},
   "outputs": [
    {
     "data": {
      "text/plain": [
       "4096"
      ]
     },
     "execution_count": 8,
     "metadata": {},
     "output_type": "execute_result"
    }
   ],
   "source": [
    "# query = \"Who is the current President of India?\"\n",
    "# embedded_query = embeddings.embed_query(query)\n",
    "# len(embedded_query)"
   ]
  },
  {
   "cell_type": "code",
   "execution_count": 8,
   "metadata": {},
   "outputs": [
    {
     "data": {
      "text/plain": [
       "[Document(page_content='governance structure. The President of India is the head of state, while the Prime Minister is the head of government. The current President of India is Droupadi Murmu while the current prime minister is Narendra Modi. The country follows a parliamentary', metadata={'source': './docs/sample_input2.txt'})]"
      ]
     },
     "execution_count": 8,
     "metadata": {},
     "output_type": "execute_result"
    }
   ],
   "source": [
    "db = Chroma.from_documents(texts, embeddings)\n",
    "query_vector = embeddings.embed_query(query)\n",
    "docs = db.similarity_search_by_vector(query_vector, k=1)\n",
    "docs"
   ]
  },
  {
   "cell_type": "code",
   "execution_count": 9,
   "metadata": {},
   "outputs": [
    {
     "name": "stdout",
     "output_type": "stream",
     "text": [
      "governance structure. The President of India is the head of state, while the Prime Minister is the head of government. The current President of India is Droupadi Murmu while the current prime minister is Narendra Modi. The country follows a parliamentary\n"
     ]
    }
   ],
   "source": [
    "similar_doc = db.similarity_search(query, k=1)\n",
    "context = similar_doc[0].page_content\n",
    "print(context)"
   ]
  },
  {
   "cell_type": "code",
   "execution_count": 18,
   "metadata": {},
   "outputs": [
    {
     "name": "stdout",
     "output_type": "stream",
     "text": [
      "A)\n",
      "Based on the provided information, the current president of India is Droupadi Murmu.\n"
     ]
    }
   ],
   "source": [
    "template = \"\"\"\n",
    "You are an artificial intelligence assistant. The assistant gives helpful, detailed, and polite answers to the user's questions. Below is some information. \n",
    "{context}\n",
    "\n",
    "Based on the above information only, answer the below question. \n",
    "\n",
    "{question}\n",
    "\"\"\"\n",
    "#prompt = PromptTemplate(template=template, input_variables=[\"context\", \"question\"])\n",
    "prompt = PromptTemplate.from_template(template)\n",
    "llm_chain = LLMChain(prompt=prompt, llm=llm)\n",
    "\n",
    "print(llm_chain.run({\"context\": context, \"question\": query}))"
   ]
  },
  {
   "cell_type": "code",
   "execution_count": 14,
   "metadata": {},
   "outputs": [
    {
     "data": {
      "text/plain": [
       "PromptTemplate(input_variables=[], output_parser=None, partial_variables={}, template='\\nYou are an artificial intelligence assistant. The assistant gives helpful, detailed, and polite answers to the user\\'s questions. Below is some information. \\ngovernance structure. The President of India is the head of state, while the Prime Minister is the head of government. The current President of India is Droupadi Murmu while the current prime minister is Narendra Modi. The country follows a parliamentary\\n\\nBased on the above information, answer the below question. If the above information does not have the answer, reply \"Sorry, I don\\'t know\". DO NOT make up an answer.\\n\\nWho is the current President of India?\\n', template_format='f-string', validate_template=True)"
      ]
     },
     "execution_count": 14,
     "metadata": {},
     "output_type": "execute_result"
    }
   ],
   "source": [
    "prompt"
   ]
  },
  {
   "cell_type": "code",
   "execution_count": null,
   "metadata": {},
   "outputs": [],
   "source": []
  }
 ],
 "metadata": {
  "kernelspec": {
   "display_name": "langchain_stuff",
   "language": "python",
   "name": "python3"
  },
  "language_info": {
   "codemirror_mode": {
    "name": "ipython",
    "version": 3
   },
   "file_extension": ".py",
   "mimetype": "text/x-python",
   "name": "python",
   "nbconvert_exporter": "python",
   "pygments_lexer": "ipython3",
   "version": "3.9.17"
  },
  "orig_nbformat": 4
 },
 "nbformat": 4,
 "nbformat_minor": 2
}
